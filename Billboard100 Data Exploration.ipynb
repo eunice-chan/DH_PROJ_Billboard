{
 "cells": [
  {
   "cell_type": "markdown",
   "metadata": {},
   "source": [
    "# Introduction\n",
    "## Question\n",
    "How have the lyrics of the most popular songs in the US changed over time?\n",
    "## Why Does It Matter?\n",
    "From lullabies to birthday to dirges, music color and reflect our experiences. Music provides insight in the culture, norms, rituals, and values of a society. I am interested in observing the zeitgeist of the US through the years and how it changes. In relation to the data, I am interested in what popular music--specifically the number one single in Billboard's charts--can say about the people in the era and society.\n",
    "\n",
    "Although the most popular song is decided by a wide variety of factors, one of the factors is the appeal to the general public, which is why I can gain insight to the time period through its  popular songs. It may bold assumption to make, but I think the lyrics of the songs every decade would be able to at least reflect, if not the zeitgeist,  some aspect of the culture at that decade.\n",
    "# Sources\n",
    "I am defining most popular song in the US as the #1 Billboard single in that decade. I’m getting the information of the #1 Billboard single from Wikipedia articles with links of the form “https://en.wikipedia.org/wiki/Billboard_year-end_top_30_singles_of_(year)”.\n",
    "\n",
    "I’m using the Wikipedia articles as my source of information because I know Wikipedia allows web scraping. I've compared it with several other websites and the information matches up, so I think this is a trustworthy source.\n",
    "\n",
    "I’m getting the lyrics by Googling the name of the songs and finding the first relevant results that don’t including [CHORUS] [VERSE 1] and the like. It’s much more manual but I haven’t found a less labor-intensive method of finding lyrics, especially for some of the older songs.\n",
    "\n",
    "# Workflow\n",
    "1. Collect songs from Wikipedia in the Jupyter notebook `Collecting Billboard Top 100 From Wikipedia`.\n",
    "2. Import it into Google Sheets and manually populate the \"Lyrics\" column.\n",
    "3. Export it as a .csv file and import it into this Jupyter notebook for data exploration.\n",
    "\n",
    "# Assumptions & Concerns\n",
    "I am using an equal number of songs from each decade to combat imbalances.\n",
    "However, since I need to manually input the lyrics, the number of songs used is very few so I may end up drawing wrong conclusions based on unique characteristics of the specific songs I chose. Because of that, I'm making a huge assumption that my data is representative of the whole decade. However, I'm adding more lyrics to the list and re-running everything so I hope as I add more data, the assumption will become less of a stretch.\n",
    "The underlying phenomena is the zeitgeist of each decade, and I am using the lyrics of the popular songs as a latent variable to investigate this.\n",
    "\n",
    "Subsets:\n",
    "1. 7 data points\n",
    "    * #1 song in 1950, 1960, 1970, 1980, 1990, 2000, 2010\n",
    "2. 14 data points\n",
    "    * #1 song in 1950, 1955, 1960, 1965, 1970, 1975, 1980, 1985, 1990, 1995, 2000, 2005, 2010, 2015\n",
    "3. 28 data points\n",
    "    * #1 & #2 songs in 1950, 1955, 1960, 1965, 1970, 1975, 1980, 1985, 1990, 1995, 2000, 2005, 2010, 2015\n",
    "    \n",
    "# Tools & Methods\n",
    "## Preliminary Importing"
   ]
  },
  {
   "cell_type": "code",
   "execution_count": 1,
   "metadata": {},
   "outputs": [],
   "source": [
    "import nltk #\n",
    "from nltk import pos_tag #\n",
    "from nltk.corpus import stopwords #\n",
    "from nltk.tokenize import word_tokenize #\n",
    "from nltk.stem import WordNetLemmatizer #\n",
    "from nltk.corpus import wordnet #\n",
    "from nltk.sentiment.vader import SentimentIntensityAnalyzer\n",
    "\n",
    "from sklearn.feature_extraction.text import TfidfVectorizer\n",
    "from sklearn.decomposition import LatentDirichletAllocation\n",
    "\n",
    "from collections import Counter\n",
    "from string import punctuation #\n",
    "\n",
    "import pandas as pd #\n",
    "import numpy as np #\n",
    "from matplotlib import pyplot as plt #\n",
    "%matplotlib inline\n",
    "plt.style.use(\"seaborn-pastel\")"
   ]
  },
  {
   "cell_type": "markdown",
   "metadata": {},
   "source": [
    "# Data"
   ]
  },
  {
   "cell_type": "code",
   "execution_count": 2,
   "metadata": {},
   "outputs": [
    {
     "data": {
      "text/html": [
       "<div>\n",
       "<style scoped>\n",
       "    .dataframe tbody tr th:only-of-type {\n",
       "        vertical-align: middle;\n",
       "    }\n",
       "\n",
       "    .dataframe tbody tr th {\n",
       "        vertical-align: top;\n",
       "    }\n",
       "\n",
       "    .dataframe thead th {\n",
       "        text-align: right;\n",
       "    }\n",
       "</style>\n",
       "<table border=\"1\" class=\"dataframe\">\n",
       "  <thead>\n",
       "    <tr style=\"text-align: right;\">\n",
       "      <th></th>\n",
       "      <th>Position</th>\n",
       "      <th>Song</th>\n",
       "      <th>Artist</th>\n",
       "      <th>Year</th>\n",
       "      <th>Lyrics</th>\n",
       "    </tr>\n",
       "  </thead>\n",
       "  <tbody>\n",
       "    <tr>\n",
       "      <th>0</th>\n",
       "      <td>1</td>\n",
       "      <td>\"Goodnight Irene\"</td>\n",
       "      <td>Gordon Jenkins &amp; The Weavers</td>\n",
       "      <td>1950</td>\n",
       "      <td>Irene, goodnight\\nIrene, goodnight\\nGoodnight,...</td>\n",
       "    </tr>\n",
       "    <tr>\n",
       "      <th>1</th>\n",
       "      <td>2</td>\n",
       "      <td>\"Mona Lisa\"</td>\n",
       "      <td>Nat King Cole</td>\n",
       "      <td>1950</td>\n",
       "      <td>Mona lisa, mona lisa, men have named you\\nyou'...</td>\n",
       "    </tr>\n",
       "    <tr>\n",
       "      <th>2</th>\n",
       "      <td>1</td>\n",
       "      <td>\"Cherry Pink And Apple Blossom White\"</td>\n",
       "      <td>Perez Prado</td>\n",
       "      <td>1955</td>\n",
       "      <td>It's cherry pink and apple blossom white\\nWhen...</td>\n",
       "    </tr>\n",
       "    <tr>\n",
       "      <th>3</th>\n",
       "      <td>2</td>\n",
       "      <td>\"Rock Around the Clock\"</td>\n",
       "      <td>Bill Haley &amp; His Comets</td>\n",
       "      <td>1955</td>\n",
       "      <td>One, two, three o'clock, four o'clock, rock\\nF...</td>\n",
       "    </tr>\n",
       "    <tr>\n",
       "      <th>4</th>\n",
       "      <td>1</td>\n",
       "      <td>\"Theme from A Summer Place\"</td>\n",
       "      <td>Percy Faith</td>\n",
       "      <td>1960</td>\n",
       "      <td>There's a summer place\\nWhere it may rain or s...</td>\n",
       "    </tr>\n",
       "    <tr>\n",
       "      <th>5</th>\n",
       "      <td>2</td>\n",
       "      <td>\"He'll Have to Go\"</td>\n",
       "      <td>Jim Reeves</td>\n",
       "      <td>1960</td>\n",
       "      <td>Put your sweet lips a little closer to the pho...</td>\n",
       "    </tr>\n",
       "    <tr>\n",
       "      <th>6</th>\n",
       "      <td>1</td>\n",
       "      <td>\"Wooly Bully\"</td>\n",
       "      <td>Sam the Sham and the Pharaohs</td>\n",
       "      <td>1965</td>\n",
       "      <td>Uno, dos, one, two, tres, quatro\\nMatty told H...</td>\n",
       "    </tr>\n",
       "    <tr>\n",
       "      <th>7</th>\n",
       "      <td>2</td>\n",
       "      <td>\"I Can't Help Myself (Sugar Pie Honey Bunch)\"</td>\n",
       "      <td>Four Tops</td>\n",
       "      <td>1965</td>\n",
       "      <td>Ooh, sugar pie, honey bunch\\nYou know that I l...</td>\n",
       "    </tr>\n",
       "    <tr>\n",
       "      <th>8</th>\n",
       "      <td>1</td>\n",
       "      <td>\"Bridge Over Troubled Water\"</td>\n",
       "      <td>Simon &amp; Garfunkel</td>\n",
       "      <td>1970</td>\n",
       "      <td>When you're weary, feeling small\\nWhen tears a...</td>\n",
       "    </tr>\n",
       "    <tr>\n",
       "      <th>9</th>\n",
       "      <td>2</td>\n",
       "      <td>\"(They Long to Be) Close to You\"</td>\n",
       "      <td>The Carpenters</td>\n",
       "      <td>1970</td>\n",
       "      <td>Why do birds suddenly appear\\nEvery time you a...</td>\n",
       "    </tr>\n",
       "    <tr>\n",
       "      <th>10</th>\n",
       "      <td>1</td>\n",
       "      <td>\"Love Will Keep Us Together\"</td>\n",
       "      <td>Captain &amp; Tennille</td>\n",
       "      <td>1975</td>\n",
       "      <td>Love\\nLove will keep us together\\nThink of me ...</td>\n",
       "    </tr>\n",
       "    <tr>\n",
       "      <th>11</th>\n",
       "      <td>2</td>\n",
       "      <td>\"Rhinestone Cowboy\"</td>\n",
       "      <td>Glen Campbell</td>\n",
       "      <td>1975</td>\n",
       "      <td>I've been walkin' these streets so long\\nSingi...</td>\n",
       "    </tr>\n",
       "    <tr>\n",
       "      <th>12</th>\n",
       "      <td>1</td>\n",
       "      <td>\"Call Me\"</td>\n",
       "      <td>Blondie</td>\n",
       "      <td>1980</td>\n",
       "      <td>Color me your color, baby\\nColor me your car\\n...</td>\n",
       "    </tr>\n",
       "    <tr>\n",
       "      <th>13</th>\n",
       "      <td>2</td>\n",
       "      <td>\"Another Brick in the Wall, Part II\"</td>\n",
       "      <td>Pink Floyd</td>\n",
       "      <td>1980</td>\n",
       "      <td>We don't need no education\\nWe don't need no t...</td>\n",
       "    </tr>\n",
       "    <tr>\n",
       "      <th>14</th>\n",
       "      <td>1</td>\n",
       "      <td>\"Careless Whisper\"</td>\n",
       "      <td>Wham!</td>\n",
       "      <td>1985</td>\n",
       "      <td>I feel so unsure\\nAs I take your hand and lead...</td>\n",
       "    </tr>\n",
       "    <tr>\n",
       "      <th>15</th>\n",
       "      <td>2</td>\n",
       "      <td>\"Like a Virgin\"</td>\n",
       "      <td>Madonna</td>\n",
       "      <td>1985</td>\n",
       "      <td>I made it through the wilderness\\nSomehow I ma...</td>\n",
       "    </tr>\n",
       "    <tr>\n",
       "      <th>16</th>\n",
       "      <td>1</td>\n",
       "      <td>\"Hold On\"</td>\n",
       "      <td>Wilson Phillips</td>\n",
       "      <td>1990</td>\n",
       "      <td>I know there's pain\\nWhy do you lock yourself ...</td>\n",
       "    </tr>\n",
       "    <tr>\n",
       "      <th>17</th>\n",
       "      <td>2</td>\n",
       "      <td>\"It Must Have Been Love\"</td>\n",
       "      <td>Roxette</td>\n",
       "      <td>1990</td>\n",
       "      <td>It must have been love\\nBut it's over now\\nLay...</td>\n",
       "    </tr>\n",
       "    <tr>\n",
       "      <th>18</th>\n",
       "      <td>1</td>\n",
       "      <td>\"Gangsta's Paradise\"</td>\n",
       "      <td>Coolio featuring L.V.</td>\n",
       "      <td>1995</td>\n",
       "      <td>As I walk through the valley of the shadow of ...</td>\n",
       "    </tr>\n",
       "    <tr>\n",
       "      <th>19</th>\n",
       "      <td>2</td>\n",
       "      <td>\"Waterfalls\"</td>\n",
       "      <td>TLC</td>\n",
       "      <td>1995</td>\n",
       "      <td>A lonely mother gazing out of her window\\nStar...</td>\n",
       "    </tr>\n",
       "    <tr>\n",
       "      <th>20</th>\n",
       "      <td>1</td>\n",
       "      <td>\"Breathe\"</td>\n",
       "      <td>Faith Hill</td>\n",
       "      <td>2000</td>\n",
       "      <td>I can feel the magic floating in the air\\nBein...</td>\n",
       "    </tr>\n",
       "    <tr>\n",
       "      <th>21</th>\n",
       "      <td>2</td>\n",
       "      <td>\"Smooth\"</td>\n",
       "      <td>Santana featuring Rob Thomas</td>\n",
       "      <td>2000</td>\n",
       "      <td>Man, it's a hot one\\nLike seven inches from th...</td>\n",
       "    </tr>\n",
       "    <tr>\n",
       "      <th>22</th>\n",
       "      <td>1</td>\n",
       "      <td>\"We Belong Together\"</td>\n",
       "      <td>Mariah Carey</td>\n",
       "      <td>2005</td>\n",
       "      <td>When you left I lost a part of me\\nIt's still ...</td>\n",
       "    </tr>\n",
       "    <tr>\n",
       "      <th>23</th>\n",
       "      <td>2</td>\n",
       "      <td>\"Hollaback Girl\"</td>\n",
       "      <td>Gwen Stefani</td>\n",
       "      <td>2005</td>\n",
       "      <td>Ooh this my shit\\nAll the girls stamp your fee...</td>\n",
       "    </tr>\n",
       "    <tr>\n",
       "      <th>24</th>\n",
       "      <td>1</td>\n",
       "      <td>\"Tik Tok\"</td>\n",
       "      <td>Kesha</td>\n",
       "      <td>2010</td>\n",
       "      <td>Wake up in the morning feeling like P Diddy (H...</td>\n",
       "    </tr>\n",
       "    <tr>\n",
       "      <th>25</th>\n",
       "      <td>2</td>\n",
       "      <td>\"Need You Now\"</td>\n",
       "      <td>Lady Antebellum</td>\n",
       "      <td>2010</td>\n",
       "      <td>Picture perfect memories\\nScattered all around...</td>\n",
       "    </tr>\n",
       "    <tr>\n",
       "      <th>26</th>\n",
       "      <td>1</td>\n",
       "      <td>\"Uptown Funk\"</td>\n",
       "      <td>Mark Ronson featuring Bruno Mars</td>\n",
       "      <td>2015</td>\n",
       "      <td>This hit, that ice cold\\nMichelle Pfeiffer, th...</td>\n",
       "    </tr>\n",
       "    <tr>\n",
       "      <th>27</th>\n",
       "      <td>2</td>\n",
       "      <td>\"Thinking Out Loud\"</td>\n",
       "      <td>Ed Sheeran</td>\n",
       "      <td>2015</td>\n",
       "      <td>When your legs don't work like they used to be...</td>\n",
       "    </tr>\n",
       "  </tbody>\n",
       "</table>\n",
       "</div>"
      ],
      "text/plain": [
       "   Position                                           Song  \\\n",
       "0         1                              \"Goodnight Irene\"   \n",
       "1         2                                    \"Mona Lisa\"   \n",
       "2         1          \"Cherry Pink And Apple Blossom White\"   \n",
       "3         2                        \"Rock Around the Clock\"   \n",
       "4         1                    \"Theme from A Summer Place\"   \n",
       "5         2                             \"He'll Have to Go\"   \n",
       "6         1                                  \"Wooly Bully\"   \n",
       "7         2  \"I Can't Help Myself (Sugar Pie Honey Bunch)\"   \n",
       "8         1                   \"Bridge Over Troubled Water\"   \n",
       "9         2               \"(They Long to Be) Close to You\"   \n",
       "10        1                   \"Love Will Keep Us Together\"   \n",
       "11        2                            \"Rhinestone Cowboy\"   \n",
       "12        1                                      \"Call Me\"   \n",
       "13        2           \"Another Brick in the Wall, Part II\"   \n",
       "14        1                             \"Careless Whisper\"   \n",
       "15        2                                \"Like a Virgin\"   \n",
       "16        1                                      \"Hold On\"   \n",
       "17        2                       \"It Must Have Been Love\"   \n",
       "18        1                           \"Gangsta's Paradise\"   \n",
       "19        2                                   \"Waterfalls\"   \n",
       "20        1                                      \"Breathe\"   \n",
       "21        2                                       \"Smooth\"   \n",
       "22        1                           \"We Belong Together\"   \n",
       "23        2                               \"Hollaback Girl\"   \n",
       "24        1                                      \"Tik Tok\"   \n",
       "25        2                                 \"Need You Now\"   \n",
       "26        1                                  \"Uptown Funk\"   \n",
       "27        2                            \"Thinking Out Loud\"   \n",
       "\n",
       "                              Artist  Year  \\\n",
       "0       Gordon Jenkins & The Weavers  1950   \n",
       "1                      Nat King Cole  1950   \n",
       "2                        Perez Prado  1955   \n",
       "3            Bill Haley & His Comets  1955   \n",
       "4                        Percy Faith  1960   \n",
       "5                         Jim Reeves  1960   \n",
       "6      Sam the Sham and the Pharaohs  1965   \n",
       "7                          Four Tops  1965   \n",
       "8                  Simon & Garfunkel  1970   \n",
       "9                     The Carpenters  1970   \n",
       "10                Captain & Tennille  1975   \n",
       "11                     Glen Campbell  1975   \n",
       "12                           Blondie  1980   \n",
       "13                        Pink Floyd  1980   \n",
       "14                             Wham!  1985   \n",
       "15                           Madonna  1985   \n",
       "16                   Wilson Phillips  1990   \n",
       "17                           Roxette  1990   \n",
       "18             Coolio featuring L.V.  1995   \n",
       "19                               TLC  1995   \n",
       "20                        Faith Hill  2000   \n",
       "21      Santana featuring Rob Thomas  2000   \n",
       "22                      Mariah Carey  2005   \n",
       "23                      Gwen Stefani  2005   \n",
       "24                             Kesha  2010   \n",
       "25                   Lady Antebellum  2010   \n",
       "26  Mark Ronson featuring Bruno Mars  2015   \n",
       "27                        Ed Sheeran  2015   \n",
       "\n",
       "                                               Lyrics  \n",
       "0   Irene, goodnight\\nIrene, goodnight\\nGoodnight,...  \n",
       "1   Mona lisa, mona lisa, men have named you\\nyou'...  \n",
       "2   It's cherry pink and apple blossom white\\nWhen...  \n",
       "3   One, two, three o'clock, four o'clock, rock\\nF...  \n",
       "4   There's a summer place\\nWhere it may rain or s...  \n",
       "5   Put your sweet lips a little closer to the pho...  \n",
       "6   Uno, dos, one, two, tres, quatro\\nMatty told H...  \n",
       "7   Ooh, sugar pie, honey bunch\\nYou know that I l...  \n",
       "8   When you're weary, feeling small\\nWhen tears a...  \n",
       "9   Why do birds suddenly appear\\nEvery time you a...  \n",
       "10  Love\\nLove will keep us together\\nThink of me ...  \n",
       "11  I've been walkin' these streets so long\\nSingi...  \n",
       "12  Color me your color, baby\\nColor me your car\\n...  \n",
       "13  We don't need no education\\nWe don't need no t...  \n",
       "14  I feel so unsure\\nAs I take your hand and lead...  \n",
       "15  I made it through the wilderness\\nSomehow I ma...  \n",
       "16  I know there's pain\\nWhy do you lock yourself ...  \n",
       "17  It must have been love\\nBut it's over now\\nLay...  \n",
       "18  As I walk through the valley of the shadow of ...  \n",
       "19  A lonely mother gazing out of her window\\nStar...  \n",
       "20  I can feel the magic floating in the air\\nBein...  \n",
       "21  Man, it's a hot one\\nLike seven inches from th...  \n",
       "22  When you left I lost a part of me\\nIt's still ...  \n",
       "23  Ooh this my shit\\nAll the girls stamp your fee...  \n",
       "24  Wake up in the morning feeling like P Diddy (H...  \n",
       "25  Picture perfect memories\\nScattered all around...  \n",
       "26  This hit, that ice cold\\nMichelle Pfeiffer, th...  \n",
       "27  When your legs don't work like they used to be...  "
      ]
     },
     "execution_count": 2,
     "metadata": {},
     "output_type": "execute_result"
    }
   ],
   "source": [
    "#This is the saved csv file from Google Sheets with lyrics added to web-scrapped data\n",
    "full_music = pd.read_csv(\"Lyrics_Billboard100_1950-2018.csv\")\n",
    "pd.to_numeric(full_music[\"Year\"])\n",
    "#Get the songs from the Billboard entries every 5 years\n",
    "subset_music = full_music.loc[full_music[\"Year\"]%5 == 0]\n",
    "#Only get the #1 and #2 song in each Billboard entry\n",
    "data = subset_music.loc[subset_music[\"Position\"].isin([\"1\", \"2\"])].reset_index(drop=True)\n",
    "data"
   ]
  },
  {
   "cell_type": "code",
   "execution_count": 80,
   "metadata": {},
   "outputs": [
    {
     "data": {
      "text/html": [
       "<div>\n",
       "<style scoped>\n",
       "    .dataframe tbody tr th:only-of-type {\n",
       "        vertical-align: middle;\n",
       "    }\n",
       "\n",
       "    .dataframe tbody tr th {\n",
       "        vertical-align: top;\n",
       "    }\n",
       "\n",
       "    .dataframe thead th {\n",
       "        text-align: right;\n",
       "    }\n",
       "</style>\n",
       "<table border=\"1\" class=\"dataframe\">\n",
       "  <thead>\n",
       "    <tr style=\"text-align: right;\">\n",
       "      <th></th>\n",
       "      <th>Decade</th>\n",
       "      <th>Lyrics</th>\n",
       "      <th>Lyrics w/o Punctuation</th>\n",
       "      <th>Lyrics by Words</th>\n",
       "    </tr>\n",
       "  </thead>\n",
       "  <tbody>\n",
       "    <tr>\n",
       "      <th>0</th>\n",
       "      <td>1950s</td>\n",
       "      <td>[Irene, goodnight\\nIrene, goodnight\\nGoodnight...</td>\n",
       "      <td>[irene goodnight irene goodnight goodnight ire...</td>\n",
       "      <td>[[irene, goodnight, irene, goodnight, goodnigh...</td>\n",
       "    </tr>\n",
       "    <tr>\n",
       "      <th>1</th>\n",
       "      <td>1960s</td>\n",
       "      <td>[There's a summer place\\nWhere it may rain or ...</td>\n",
       "      <td>[theres a summer place where it may rain or st...</td>\n",
       "      <td>[[theres, a, summer, place, where, it, may, ra...</td>\n",
       "    </tr>\n",
       "    <tr>\n",
       "      <th>2</th>\n",
       "      <td>1970s</td>\n",
       "      <td>[When you're weary, feeling small\\nWhen tears ...</td>\n",
       "      <td>[when youre weary feeling small when tears are...</td>\n",
       "      <td>[[when, youre, weary, feeling, small, when, te...</td>\n",
       "    </tr>\n",
       "    <tr>\n",
       "      <th>3</th>\n",
       "      <td>1980s</td>\n",
       "      <td>[Color me your color, baby\\nColor me your car\\...</td>\n",
       "      <td>[color me your color baby color me your car co...</td>\n",
       "      <td>[[color, me, your, color, baby, color, me, you...</td>\n",
       "    </tr>\n",
       "    <tr>\n",
       "      <th>4</th>\n",
       "      <td>1990s</td>\n",
       "      <td>[I know there's pain\\nWhy do you lock yourself...</td>\n",
       "      <td>[i know theres pain why do you lock yourself u...</td>\n",
       "      <td>[[i, know, theres, pain, why, do, you, lock, y...</td>\n",
       "    </tr>\n",
       "    <tr>\n",
       "      <th>5</th>\n",
       "      <td>2000s</td>\n",
       "      <td>[I can feel the magic floating in the air\\nBei...</td>\n",
       "      <td>[i can feel the magic floating in the air bein...</td>\n",
       "      <td>[[i, can, feel, the, magic, floating, in, the,...</td>\n",
       "    </tr>\n",
       "    <tr>\n",
       "      <th>6</th>\n",
       "      <td>2010s</td>\n",
       "      <td>[Wake up in the morning feeling like P Diddy (...</td>\n",
       "      <td>[wake up in the morning feeling like p diddy h...</td>\n",
       "      <td>[[wake, up, in, the, morning, feeling, like, p...</td>\n",
       "    </tr>\n",
       "  </tbody>\n",
       "</table>\n",
       "</div>"
      ],
      "text/plain": [
       "  Decade                                             Lyrics  \\\n",
       "0  1950s  [Irene, goodnight\\nIrene, goodnight\\nGoodnight...   \n",
       "1  1960s  [There's a summer place\\nWhere it may rain or ...   \n",
       "2  1970s  [When you're weary, feeling small\\nWhen tears ...   \n",
       "3  1980s  [Color me your color, baby\\nColor me your car\\...   \n",
       "4  1990s  [I know there's pain\\nWhy do you lock yourself...   \n",
       "5  2000s  [I can feel the magic floating in the air\\nBei...   \n",
       "6  2010s  [Wake up in the morning feeling like P Diddy (...   \n",
       "\n",
       "                              Lyrics w/o Punctuation  \\\n",
       "0  [irene goodnight irene goodnight goodnight ire...   \n",
       "1  [theres a summer place where it may rain or st...   \n",
       "2  [when youre weary feeling small when tears are...   \n",
       "3  [color me your color baby color me your car co...   \n",
       "4  [i know theres pain why do you lock yourself u...   \n",
       "5  [i can feel the magic floating in the air bein...   \n",
       "6  [wake up in the morning feeling like p diddy h...   \n",
       "\n",
       "                                     Lyrics by Words  \n",
       "0  [[irene, goodnight, irene, goodnight, goodnigh...  \n",
       "1  [[theres, a, summer, place, where, it, may, ra...  \n",
       "2  [[when, youre, weary, feeling, small, when, te...  \n",
       "3  [[color, me, your, color, baby, color, me, you...  \n",
       "4  [[i, know, theres, pain, why, do, you, lock, y...  \n",
       "5  [[i, can, feel, the, magic, floating, in, the,...  \n",
       "6  [[wake, up, in, the, morning, feeling, like, p...  "
      ]
     },
     "execution_count": 80,
     "metadata": {},
     "output_type": "execute_result"
    }
   ],
   "source": [
    "#Remove punctuation\n",
    "data[\"Lyrics w/o Punctuation\"] = [lyrics.lower().replace(\"\\n\",\" \").translate(str.maketrans('', '', punctuation)) \n",
    "                                  for lyrics in data[\"Lyrics\"]]\n",
    "#Word tokenize\n",
    "data[\"Lyrics by Words\"] = [word_tokenize(lyrics) for lyrics in data[\"Lyrics w/o Punctuation\"]]\n",
    "#Create a decade column\n",
    "data[\"Decade\"] = [int(year/10) for year in data[\"Year\"]]\n",
    "music = data.groupby(\"Decade\").agg(list)\n",
    "music[\"Decade\"] = [str(year[0])+\"s\" for year in music[\"Year\"]]\n",
    "#Create a table with the decade and the lyrics of the top 2 songs in XXX0 and XXX5\n",
    "music = music.reset_index(drop=True)[[\"Decade\", \"Lyrics\", \"Lyrics w/o Punctuation\", \"Lyrics by Words\"]]\n",
    "music"
   ]
  },
  {
   "cell_type": "markdown",
   "metadata": {},
   "source": [
    "# Text Analysis\n",
    "## Basic"
   ]
  },
  {
   "cell_type": "code",
   "execution_count": 81,
   "metadata": {},
   "outputs": [
    {
     "data": {
      "text/html": [
       "<div>\n",
       "<style scoped>\n",
       "    .dataframe tbody tr th:only-of-type {\n",
       "        vertical-align: middle;\n",
       "    }\n",
       "\n",
       "    .dataframe tbody tr th {\n",
       "        vertical-align: top;\n",
       "    }\n",
       "\n",
       "    .dataframe thead th {\n",
       "        text-align: right;\n",
       "    }\n",
       "</style>\n",
       "<table border=\"1\" class=\"dataframe\">\n",
       "  <thead>\n",
       "    <tr style=\"text-align: right;\">\n",
       "      <th></th>\n",
       "      <th>Decade</th>\n",
       "      <th>Lyrics</th>\n",
       "      <th>Lyrics w/o Punctuation</th>\n",
       "      <th>Lyrics by Words</th>\n",
       "      <th>Avg Character Count</th>\n",
       "      <th>Avg Word Count</th>\n",
       "    </tr>\n",
       "  </thead>\n",
       "  <tbody>\n",
       "    <tr>\n",
       "      <th>0</th>\n",
       "      <td>1950s</td>\n",
       "      <td>[Irene, goodnight\\nIrene, goodnight\\nGoodnight...</td>\n",
       "      <td>[irene goodnight irene goodnight goodnight ire...</td>\n",
       "      <td>[[irene, goodnight, irene, goodnight, goodnigh...</td>\n",
       "      <td>667.25</td>\n",
       "      <td>160.75</td>\n",
       "    </tr>\n",
       "    <tr>\n",
       "      <th>1</th>\n",
       "      <td>1960s</td>\n",
       "      <td>[There's a summer place\\nWhere it may rain or ...</td>\n",
       "      <td>[theres a summer place where it may rain or st...</td>\n",
       "      <td>[[theres, a, summer, place, where, it, may, ra...</td>\n",
       "      <td>593.25</td>\n",
       "      <td>156.50</td>\n",
       "    </tr>\n",
       "    <tr>\n",
       "      <th>2</th>\n",
       "      <td>1970s</td>\n",
       "      <td>[When you're weary, feeling small\\nWhen tears ...</td>\n",
       "      <td>[when youre weary feeling small when tears are...</td>\n",
       "      <td>[[when, youre, weary, feeling, small, when, te...</td>\n",
       "      <td>809.75</td>\n",
       "      <td>207.50</td>\n",
       "    </tr>\n",
       "    <tr>\n",
       "      <th>3</th>\n",
       "      <td>1980s</td>\n",
       "      <td>[Color me your color, baby\\nColor me your car\\...</td>\n",
       "      <td>[color me your color baby color me your car co...</td>\n",
       "      <td>[[color, me, your, color, baby, color, me, you...</td>\n",
       "      <td>872.50</td>\n",
       "      <td>230.00</td>\n",
       "    </tr>\n",
       "    <tr>\n",
       "      <th>4</th>\n",
       "      <td>1990s</td>\n",
       "      <td>[I know there's pain\\nWhy do you lock yourself...</td>\n",
       "      <td>[i know theres pain why do you lock yourself u...</td>\n",
       "      <td>[[i, know, theres, pain, why, do, you, lock, y...</td>\n",
       "      <td>1595.75</td>\n",
       "      <td>421.00</td>\n",
       "    </tr>\n",
       "  </tbody>\n",
       "</table>\n",
       "</div>"
      ],
      "text/plain": [
       "  Decade                                             Lyrics  \\\n",
       "0  1950s  [Irene, goodnight\\nIrene, goodnight\\nGoodnight...   \n",
       "1  1960s  [There's a summer place\\nWhere it may rain or ...   \n",
       "2  1970s  [When you're weary, feeling small\\nWhen tears ...   \n",
       "3  1980s  [Color me your color, baby\\nColor me your car\\...   \n",
       "4  1990s  [I know there's pain\\nWhy do you lock yourself...   \n",
       "\n",
       "                              Lyrics w/o Punctuation  \\\n",
       "0  [irene goodnight irene goodnight goodnight ire...   \n",
       "1  [theres a summer place where it may rain or st...   \n",
       "2  [when youre weary feeling small when tears are...   \n",
       "3  [color me your color baby color me your car co...   \n",
       "4  [i know theres pain why do you lock yourself u...   \n",
       "\n",
       "                                     Lyrics by Words  Avg Character Count  \\\n",
       "0  [[irene, goodnight, irene, goodnight, goodnigh...               667.25   \n",
       "1  [[theres, a, summer, place, where, it, may, ra...               593.25   \n",
       "2  [[when, youre, weary, feeling, small, when, te...               809.75   \n",
       "3  [[color, me, your, color, baby, color, me, you...               872.50   \n",
       "4  [[i, know, theres, pain, why, do, you, lock, y...              1595.75   \n",
       "\n",
       "   Avg Word Count  \n",
       "0          160.75  \n",
       "1          156.50  \n",
       "2          207.50  \n",
       "3          230.00  \n",
       "4          421.00  "
      ]
     },
     "execution_count": 81,
     "metadata": {},
     "output_type": "execute_result"
    }
   ],
   "source": [
    "#Get average character count\n",
    "music[\"Avg Character Count\"] = [np.mean([len(lyrics.replace(\" \",\"\")) \n",
    "                                         for lyrics in decade])\n",
    "                                for decade in music[\"Lyrics w/o Punctuation\"]]\n",
    "#Get average word count\n",
    "music[\"Avg Word Count\"] = [np.mean([len(lyrics) \n",
    "                                    for lyrics in decade]) \n",
    "                           for decade in music[\"Lyrics by Words\"]]\n",
    "music.head()"
   ]
  },
  {
   "cell_type": "markdown",
   "metadata": {},
   "source": [
    "## Visualization\n",
    "### Number of Characters"
   ]
  },
  {
   "cell_type": "code",
   "execution_count": 82,
   "metadata": {},
   "outputs": [
    {
     "data": {
      "image/png": "[encoded data removed]",
      "text/plain": [
       "<Figure size 432x288 with 1 Axes>"
      ]
     },
     "metadata": {
      "needs_background": "light"
     },
     "output_type": "display_data"
    }
   ],
   "source": [
    "plt.plot(music[\"Decade\"], music[\"Avg Character Count\"]/music[\"Avg Word Count\"])\n",
    "plt.ylabel(\"Number of Characters Per Word\")\n",
    "plt.xlabel(\"Decade\")\n",
    "plt.title(\"Word Length vs Decade\");\n",
    "#plt.savefig(\"wordlenvsdecade.tiff\")"
   ]
  },
  {
   "cell_type": "markdown",
   "metadata": {},
   "source": [
    "### Number of Words"
   ]
  },
  {
   "cell_type": "code",
   "execution_count": 83,
   "metadata": {},
   "outputs": [
    {
     "data": {
      "image/png": "[encoded data removed]",
      "text/plain": [
       "<Figure size 432x288 with 1 Axes>"
      ]
     },
     "metadata": {
      "needs_background": "light"
     },
     "output_type": "display_data"
    }
   ],
   "source": [
    "plt.plot(music[\"Decade\"], music[\"Avg Word Count\"])\n",
    "plt.ylabel(\"Number of Words\")\n",
    "plt.xlabel(\"Decade\")\n",
    "plt.title(\"Words vs Decade\");\n",
    "#plt.savefig(\"wordsvsdecade.tiff\")"
   ]
  },
  {
   "cell_type": "markdown",
   "metadata": {},
   "source": [
    "## Parts of Speech"
   ]
  },
  {
   "cell_type": "code",
   "execution_count": 84,
   "metadata": {},
   "outputs": [],
   "source": [
    "decade_pov_single_1 = []\n",
    "decade_pov_plural_1 = []\n",
    "decade_pov_2 = []\n",
    "decade_male = []\n",
    "decade_female = []\n",
    "decade_pov_inc = []\n",
    "decade_pov_ego = []\n",
    "first_person_single = [\"i\", \"me\", \"my\", \"myself\", \"mine\"]\n",
    "first_person_plural = [\"we\", \"us\", \"our\", \"ours\"]\n",
    "second_person = [\"you\", \"your\", \"yours\", \"yourself\", \"yourselves\"]\n",
    "male = [\"he\", \"his\", \"him\"]\n",
    "female = [\"she\", \"her\", \"hers\"]\n",
    "for decade in music[\"Lyrics by Words\"]:\n",
    "    \n",
    "    songs_pov_single_1 = []\n",
    "    songs_pov_plural_1 = []\n",
    "    songs_pov_2 = []\n",
    "    songs_male = []\n",
    "    songs_female = []\n",
    "    \n",
    "    for song in decade:\n",
    "        \n",
    "        words_first_single = 0\n",
    "        words_first_plural = 0\n",
    "        words_second = 0\n",
    "        words_male = 0\n",
    "        words_female = 0\n",
    "        \n",
    "        for word in song:\n",
    "            \n",
    "            #Count number of words in first person singular\n",
    "            if word in first_person_single:\n",
    "                words_first_single += 1\n",
    "                \n",
    "            #Count number of words in first person plural\n",
    "            if word in first_person_plural:\n",
    "                words_first_plural += 1\n",
    "                \n",
    "            #Count number of words in second person\n",
    "            if word in second_person:\n",
    "                words_second += 1\n",
    "                \n",
    "            #Count number of male pronouns\n",
    "            if word in male:\n",
    "                words_male += 1\n",
    "                \n",
    "            #Count number of female pronouns\n",
    "            if word in female:\n",
    "                words_female += 1\n",
    "                \n",
    "        #Put it in terms of the whole song\n",
    "        song_len = len(song)\n",
    "        songs_pov_single_1 += [words_first_single/song_len]\n",
    "        songs_pov_plural_1 += [words_first_plural/song_len]\n",
    "        songs_pov_2 += [words_second/song_len]\n",
    "        songs_male += [words_male/song_len]\n",
    "        songs_female += [words_female/song_len]\n",
    "        \n",
    "    songs_pov_single_1 = np.mean(songs_pov_single_1)\n",
    "    songs_pov_plural_1 = np.mean(songs_pov_plural_1)\n",
    "    songs_pov_2 = np.mean(songs_pov_2)\n",
    "    songs_male = np.mean(songs_male)\n",
    "    songs_female = np.mean(songs_female)\n",
    "    \n",
    "    #Find the mean in each decade\n",
    "    decade_pov_single_1 += [songs_pov_single_1]\n",
    "    decade_pov_plural_1 += [songs_pov_plural_1]\n",
    "    decade_pov_2 += [songs_pov_2]\n",
    "    decade_male += [songs_male]\n",
    "    decade_female += [songs_female]\n",
    "    decade_pov_inc += [songs_pov_plural_1 + songs_pov_2]\n",
    "    decade_pov_ego += [songs_pov_single_1 + songs_pov_plural_1]"
   ]
  },
  {
   "cell_type": "code",
   "execution_count": 85,
   "metadata": {},
   "outputs": [],
   "source": [
    "def pos_counter(pos_tag):\n",
    "    \n",
    "    pos = []\n",
    "    freq = []\n",
    "    \n",
    "    for _, tag in pos_tag:\n",
    "        \n",
    "        if tag not in pos:\n",
    "            pos += [tag]\n",
    "            freq += [1]\n",
    "        else:\n",
    "            freq[pos.index(tag)] += 1\n",
    "            \n",
    "    freq = freq/np.sum(freq)\n",
    "    return pos, freq"
   ]
  },
  {
   "cell_type": "code",
   "execution_count": 86,
   "metadata": {},
   "outputs": [],
   "source": [
    "decade_pos_tag = []\n",
    "decade_pos = {}\n",
    "\n",
    "for i in np.arange(len(music[\"Lyrics by Words\"])):\n",
    "    \n",
    "    decade = music[\"Lyrics by Words\"][i]\n",
    "    decade_pos_tag += [[]]\n",
    "    decade_dict = {}\n",
    "    \n",
    "    #Populate the dictionary of the decade with the POS frequencies for each song\n",
    "    for j in np.arange(len(decade)):\n",
    "        \n",
    "        song = decade[j]\n",
    "        decade_pos_tag[i] += [pos_tag(song)]\n",
    "        pos = pos_counter(decade_pos_tag[i][j])\n",
    "        label = pos[0]\n",
    "        freq = pos[1]\n",
    "        \n",
    "        for label, freq in zip(label, freq):\n",
    "            \n",
    "            if label in decade_pos:\n",
    "                decade_dict[label] += [freq]\n",
    "            else:\n",
    "                decade_dict[label] = [freq]\n",
    "                \n",
    "    #Combine each song's frequencies into a mean\n",
    "    for item in decade_dict:\n",
    "        decade_dict[item] = np.mean(decade_dict[item])\n",
    "        \n",
    "    #Add it to the decade_pos dictionary\n",
    "    decade_pos[music[\"Decade\"][i]] = decade_dict"
   ]
  },
  {
   "cell_type": "code",
   "execution_count": 87,
   "metadata": {},
   "outputs": [],
   "source": [
    "#WDT: wh-determiner, which\n",
    "#WP: wh-pronoun, who, what\n",
    "#WP$: possessive wh-pronoun, whose\n",
    "#WRB: wh-abverb, where, when\n",
    "decade_spec = []\n",
    "\n",
    "#PRP: personal pronoun, I, he, she\n",
    "decade_prp = []\n",
    "\n",
    "#PRP$: possessive pronoun, my, his, hers\n",
    "decade_prps = []\n",
    "\n",
    "#PRP + PRP$\n",
    "decade_prgen = []\n",
    "\n",
    "for decade in decade_pos:\n",
    "    \n",
    "    pos = decade_pos[decade]\n",
    "    \n",
    "    prp = 0\n",
    "    if \"PRP\" in pos:\n",
    "        prp = pos[\"PRP\"]\n",
    "    decade_prp += [prp]  \n",
    "    \n",
    "    prps = 0\n",
    "    if \"PRP$\" in pos:\n",
    "        prps = pos[\"PRP$\"]\n",
    "    decade_prps += [prps] \n",
    "    \n",
    "    decade_prgen += [prp + prps]\n",
    "    \n",
    "    spec = 0\n",
    "    if \"WDT\" in pos:\n",
    "        spec += pos[\"WDT\"]\n",
    "    if \"WP\" in pos:\n",
    "        spec += pos[\"WP\"]\n",
    "    if \"WP$\" in pos:\n",
    "        spec += pos[\"WP$\"]\n",
    "    if \"WRB\" in pos:\n",
    "        spec += pos[\"WRB\"]\n",
    "    decade_spec += [spec]"
   ]
  },
  {
   "cell_type": "code",
   "execution_count": 88,
   "metadata": {},
   "outputs": [],
   "source": [
    "def get_wordnet_pos(treebank_tag):\n",
    "\n",
    "    if treebank_tag.startswith(\"J\"):\n",
    "        return wordnet.ADJ\n",
    "    elif treebank_tag.startswith(\"V\"):\n",
    "        return wordnet.VERB\n",
    "    elif treebank_tag.startswith(\"N\"):\n",
    "        return wordnet.NOUN\n",
    "    elif treebank_tag.startswith(\"R\"):\n",
    "        return wordnet.ADV\n",
    "    else:\n",
    "        return None"
   ]
  },
  {
   "cell_type": "code",
   "execution_count": 89,
   "metadata": {},
   "outputs": [],
   "source": [
    "def lemmatize(word, tag):\n",
    "    \n",
    "    tag = get_wordnet_pos(tag)\n",
    "    \n",
    "    if tag:\n",
    "        return lemmatizer.lemmatize(word, tag)\n",
    "    else:\n",
    "        return lemmatizer.lemmatize(word)"
   ]
  },
  {
   "cell_type": "code",
   "execution_count": 90,
   "metadata": {},
   "outputs": [],
   "source": [
    "stop_words = set(stopwords.words('english')) \n",
    "lemmatizer = WordNetLemmatizer()\n",
    "\n",
    "unique_lyrics = []\n",
    "unique_lyrics_no_stopwords = []\n",
    "\n",
    "for i in np.arange(len(music)):\n",
    "    \n",
    "    decade = decade_pos_tag[i]\n",
    "    unique_lyrics += [[]]\n",
    "    unique_lyrics_no_stopwords += [[]]\n",
    "    \n",
    "    for j in np.arange(len(decade)):\n",
    "        \n",
    "        song = decade[j]\n",
    "        \n",
    "        #lemmatize words. I removed punctuations so i'll -> ill != i != ive\n",
    "        unique_lyrics[i] += [set([lemmatize(word, tag) for (word, tag) in song])]\n",
    "        \n",
    "    #remove stopwords from unique_lyrics' entry.\n",
    "    unique_lyrics_no_stopwords[i] += [[w for w in song if not w in stop_words] for song in unique_lyrics[i]] "
   ]
  },
  {
   "cell_type": "code",
   "execution_count": 91,
   "metadata": {},
   "outputs": [],
   "source": [
    "#find the average number of unique words (with and without stopwords)\n",
    "len_unique = []\n",
    "len_unique_no_stop = []\n",
    "\n",
    "for i in np.arange(len(music)):\n",
    "    \n",
    "    decade = unique_lyrics[i]\n",
    "    decade_no_stop = unique_lyrics_no_stopwords[i]\n",
    "    \n",
    "    unique = []\n",
    "    unique_no_stop = []\n",
    "    \n",
    "    for j in np.arange(len(decade)):\n",
    "        \n",
    "        unique += [len(decade[j])]\n",
    "        unique_no_stop += [len(decade_no_stop[j])]\n",
    "        \n",
    "    len_unique += [np.mean(unique)]\n",
    "    len_unique_no_stop += [np.mean(unique_no_stop)]\n",
    "len_unique = len_unique/music[\"Avg Word Count\"]\n",
    "len_unique_no_stop = len_unique/music[\"Avg Word Count\"]"
   ]
  },
  {
   "cell_type": "markdown",
   "metadata": {},
   "source": [
    "## Visualization\n",
    "### Parts of Speech"
   ]
  },
  {
   "cell_type": "code",
   "execution_count": 92,
   "metadata": {},
   "outputs": [
    {
     "data": {
      "image/png": "[encoded data removed]",
      "text/plain": [
       "<Figure size 432x288 with 1 Axes>"
      ]
     },
     "metadata": {
      "needs_background": "light"
     },
     "output_type": "display_data"
    },
    {
     "data": {
      "image/png": "[encoded data removed]",
      "text/plain": [
       "<Figure size 432x288 with 1 Axes>"
      ]
     },
     "metadata": {
      "needs_background": "light"
     },
     "output_type": "display_data"
    },
    {
     "data": {
      "image/png": "[encoded data removed]",
      "text/plain": [
       "<Figure size 432x288 with 1 Axes>"
      ]
     },
     "metadata": {
      "needs_background": "light"
     },
     "output_type": "display_data"
    },
    {
     "data": {
      "image/png": "[encoded data removed]",
      "text/plain": [
       "<Figure size 432x288 with 1 Axes>"
      ]
     },
     "metadata": {
      "needs_background": "light"
     },
     "output_type": "display_data"
    },
    {
     "data": {
      "image/png": "[encoded data removed]",
      "text/plain": [
       "<Figure size 432x288 with 1 Axes>"
      ]
     },
     "metadata": {
      "needs_background": "light"
     },
     "output_type": "display_data"
    },
    {
     "data": {
      "image/png": "[encoded data removed]",
      "text/plain": [
       "<Figure size 432x288 with 1 Axes>"
      ]
     },
     "metadata": {
      "needs_background": "light"
     },
     "output_type": "display_data"
    },
    {
     "data": {
      "image/png": "[encoded data removed]",
      "text/plain": [
       "<Figure size 432x288 with 1 Axes>"
      ]
     },
     "metadata": {
      "needs_background": "light"
     },
     "output_type": "display_data"
    }
   ],
   "source": [
    "for decade in decade_pos:\n",
    "    plt.title(decade)\n",
    "    plt.barh(list(decade_pos[decade].keys()), list(decade_pos[decade].values()))\n",
    "    plt.show();\n",
    "    #plt.savefig(decade+\"pos.tiff\")"
   ]
  },
  {
   "cell_type": "markdown",
   "metadata": {},
   "source": [
    "### Speculative Words"
   ]
  },
  {
   "cell_type": "code",
   "execution_count": 93,
   "metadata": {},
   "outputs": [
    {
     "data": {
      "image/png": "[encoded data removed]",
      "text/plain": [
       "<Figure size 432x288 with 1 Axes>"
      ]
     },
     "metadata": {
      "needs_background": "light"
     },
     "output_type": "display_data"
    }
   ],
   "source": [
    "plt.plot(music[\"Decade\"], decade_spec)\n",
    "plt.ylabel(\"Percent\")\n",
    "plt.xlabel(\"Decade\")\n",
    "plt.title(\"Speculative Words vs Decade\");\n",
    "#plt.savefig(\"specvsdecade.tiff\")"
   ]
  },
  {
   "cell_type": "markdown",
   "metadata": {},
   "source": [
    "### Personal Pronouns"
   ]
  },
  {
   "cell_type": "code",
   "execution_count": 94,
   "metadata": {},
   "outputs": [
    {
     "data": {
      "image/png": "[encoded data removed]",
      "text/plain": [
       "<Figure size 432x288 with 1 Axes>"
      ]
     },
     "metadata": {
      "needs_background": "light"
     },
     "output_type": "display_data"
    }
   ],
   "source": [
    "plt.plot(music[\"Decade\"], decade_prp, label=\"Personal Pronouns\")\n",
    "plt.plot(music[\"Decade\"], decade_prps, label=\"Possessive Pronouns\")\n",
    "plt.plot(music[\"Decade\"], decade_prgen, label=\"Combined\")\n",
    "plt.ylabel(\"Percent\")\n",
    "plt.xlabel(\"Decade\")\n",
    "plt.legend(loc='upper center', bbox_to_anchor=(0.5, -0.2), ncol=3)\n",
    "plt.title(\"Total Personal Pronouns vs Decade\");\n",
    "#plt.savefig(\"prpvsdecade.tiff\")"
   ]
  },
  {
   "cell_type": "code",
   "execution_count": 95,
   "metadata": {},
   "outputs": [
    {
     "data": {
      "image/png": "[encoded data removed]",
      "text/plain": [
       "<Figure size 432x288 with 1 Axes>"
      ]
     },
     "metadata": {
      "needs_background": "light"
     },
     "output_type": "display_data"
    }
   ],
   "source": [
    "plt.plot(music[\"Decade\"], decade_pov_ego, label=\"First Person\")\n",
    "plt.plot(music[\"Decade\"], decade_pov_2, label=\"Second Person\")\n",
    "plt.ylabel(\"Percent\")\n",
    "plt.xlabel(\"Decade\")\n",
    "plt.legend(loc='upper center', bbox_to_anchor=(0.5, -0.2), ncol=3)\n",
    "plt.title(\"First vs Second Person\");\n",
    "#plt.savefig(\"firstvssecond.tiff\")"
   ]
  },
  {
   "cell_type": "markdown",
   "metadata": {},
   "source": [
    "### Intimacy"
   ]
  },
  {
   "cell_type": "code",
   "execution_count": 96,
   "metadata": {},
   "outputs": [
    {
     "data": {
      "image/png": "[encoded data removed]",
      "text/plain": [
       "<Figure size 432x288 with 1 Axes>"
      ]
     },
     "metadata": {
      "needs_background": "light"
     },
     "output_type": "display_data"
    }
   ],
   "source": [
    "plt.plot(music[\"Decade\"], decade_pov_plural_1, label=\"First Person Plural\")\n",
    "plt.plot(music[\"Decade\"], decade_pov_2, label=\"Second Person\")\n",
    "plt.plot(music[\"Decade\"], decade_pov_inc, label=\"Combined\")\n",
    "plt.ylabel(\"Percent\")\n",
    "plt.xlabel(\"Decade\")\n",
    "plt.legend(loc='upper center', bbox_to_anchor=(0.5, -0.2), ncol=3)\n",
    "plt.title(\"Intimacy vs Decade\");\n",
    "#plt.savefig(\"intimvsdecade.tiff\")"
   ]
  },
  {
   "cell_type": "markdown",
   "metadata": {},
   "source": [
    "### Egocentricity"
   ]
  },
  {
   "cell_type": "code",
   "execution_count": 97,
   "metadata": {},
   "outputs": [
    {
     "data": {
      "image/png": "[encoded data removed]",
      "text/plain": [
       "<Figure size 432x288 with 1 Axes>"
      ]
     },
     "metadata": {
      "needs_background": "light"
     },
     "output_type": "display_data"
    }
   ],
   "source": [
    "plt.plot(music[\"Decade\"], decade_pov_single_1, label=\"First Person Singular\")\n",
    "plt.plot(music[\"Decade\"], decade_pov_plural_1, label=\"First Person Plural\")\n",
    "plt.plot(music[\"Decade\"], decade_pov_ego, label=\"Combined\")\n",
    "plt.ylabel(\"Percent\")\n",
    "plt.xlabel(\"Decade\")\n",
    "plt.legend(loc='upper center', bbox_to_anchor=(0.5, -0.2), ncol=3)\n",
    "plt.title(\"First Person vs Decade\");\n",
    "#plt.savefig(\"firstvsdecade.tiff\")"
   ]
  },
  {
   "cell_type": "markdown",
   "metadata": {},
   "source": [
    "### Gendered Pronouns"
   ]
  },
  {
   "cell_type": "code",
   "execution_count": 98,
   "metadata": {},
   "outputs": [
    {
     "data": {
      "image/png": "[encoded data removed]",
      "text/plain": [
       "<Figure size 432x288 with 1 Axes>"
      ]
     },
     "metadata": {
      "needs_background": "light"
     },
     "output_type": "display_data"
    }
   ],
   "source": [
    "plt.plot(music[\"Decade\"], decade_male, label=\"Male Pronouns\")\n",
    "plt.plot(music[\"Decade\"], decade_female, label=\"Female Pronouns\")\n",
    "plt.ylabel(\"Percent\")\n",
    "plt.xlabel(\"Decade\")\n",
    "plt.legend(loc='upper center', bbox_to_anchor=(0.5, -0.2), ncol=3)\n",
    "plt.title(\"Gender vs Decade\");\n",
    "#plt.savefig(\"gendervsdecade.tiff\")"
   ]
  },
  {
   "cell_type": "markdown",
   "metadata": {},
   "source": [
    "### Uniqueness (Lexical Diversity)"
   ]
  },
  {
   "cell_type": "code",
   "execution_count": 99,
   "metadata": {},
   "outputs": [
    {
     "data": {
      "image/png": "[encoded data removed]",
      "text/plain": [
       "<Figure size 432x288 with 1 Axes>"
      ]
     },
     "metadata": {
      "needs_background": "light"
     },
     "output_type": "display_data"
    }
   ],
   "source": [
    "plt.plot(music[\"Decade\"], len_unique, label=\"Unique Words\")\n",
    "plt.ylabel(\"Percent\")\n",
    "plt.xlabel(\"Decade\")\n",
    "plt.legend(loc='upper center', bbox_to_anchor=(0.5, -0.2), ncol=3)\n",
    "plt.title(\"Lexical Diversity vs Decade\");\n",
    "#plt.savefig(\"uniquestopvsdecade.tiff\")"
   ]
  },
  {
   "cell_type": "code",
   "execution_count": 100,
   "metadata": {},
   "outputs": [
    {
     "data": {
      "image/png": "[encoded data removed]",
      "text/plain": [
       "<Figure size 432x288 with 1 Axes>"
      ]
     },
     "metadata": {
      "needs_background": "light"
     },
     "output_type": "display_data"
    }
   ],
   "source": [
    "plt.plot(music[\"Decade\"], len_unique_no_stop, label=\"Unique Words w/o Stopwords\")\n",
    "plt.ylabel(\"Percent\")\n",
    "plt.xlabel(\"Decade\")\n",
    "plt.legend(loc='upper center', bbox_to_anchor=(0.5, -0.2), ncol=3)\n",
    "plt.title(\"Lexical Diversity Excluding Stopwords vs Decade\");\n",
    "#plt.savefig(\"uniquenostopvsdecade.tiff\")"
   ]
  },
  {
   "cell_type": "markdown",
   "metadata": {},
   "source": [
    "## Network Graph"
   ]
  },
  {
   "cell_type": "code",
   "execution_count": 155,
   "metadata": {},
   "outputs": [
    {
     "name": "stdout",
     "output_type": "stream",
     "text": [
      "(1862, 3)\n"
     ]
    },
    {
     "data": {
      "text/html": [
       "<div>\n",
       "<style scoped>\n",
       "    .dataframe tbody tr th:only-of-type {\n",
       "        vertical-align: middle;\n",
       "    }\n",
       "\n",
       "    .dataframe tbody tr th {\n",
       "        vertical-align: top;\n",
       "    }\n",
       "\n",
       "    .dataframe thead th {\n",
       "        text-align: right;\n",
       "    }\n",
       "</style>\n",
       "<table border=\"1\" class=\"dataframe\">\n",
       "  <thead>\n",
       "    <tr style=\"text-align: right;\">\n",
       "      <th></th>\n",
       "      <th>Id</th>\n",
       "      <th>Label</th>\n",
       "      <th>Type</th>\n",
       "    </tr>\n",
       "  </thead>\n",
       "  <tbody>\n",
       "    <tr>\n",
       "      <th>0</th>\n",
       "      <td>1950s</td>\n",
       "      <td>1950s</td>\n",
       "      <td>Decade</td>\n",
       "    </tr>\n",
       "    <tr>\n",
       "      <th>1</th>\n",
       "      <td>1960s</td>\n",
       "      <td>1960s</td>\n",
       "      <td>Decade</td>\n",
       "    </tr>\n",
       "    <tr>\n",
       "      <th>2</th>\n",
       "      <td>1970s</td>\n",
       "      <td>1970s</td>\n",
       "      <td>Decade</td>\n",
       "    </tr>\n",
       "    <tr>\n",
       "      <th>3</th>\n",
       "      <td>1980s</td>\n",
       "      <td>1980s</td>\n",
       "      <td>Decade</td>\n",
       "    </tr>\n",
       "    <tr>\n",
       "      <th>4</th>\n",
       "      <td>1990s</td>\n",
       "      <td>1990s</td>\n",
       "      <td>Decade</td>\n",
       "    </tr>\n",
       "  </tbody>\n",
       "</table>\n",
       "</div>"
      ],
      "text/plain": [
       "      Id  Label    Type\n",
       "0  1950s  1950s  Decade\n",
       "1  1960s  1960s  Decade\n",
       "2  1970s  1970s  Decade\n",
       "3  1980s  1980s  Decade\n",
       "4  1990s  1990s  Decade"
      ]
     },
     "execution_count": 155,
     "metadata": {},
     "output_type": "execute_result"
    }
   ],
   "source": [
    "#List of all nodes\n",
    "all_nodes = []\n",
    "\n",
    "decades = music[\"Decade\"]\n",
    "#Removes duplicate years\n",
    "years = set(data[\"Year\"])\n",
    "songs = data[\"Song\"]\n",
    "#Removes quotes around song titles\n",
    "songs = [song[1:-1] for song in songs]\n",
    "unique_words_no_stop = unique_lyrics_no_stopwords\n",
    "\n",
    "all_nodes.extend(decades)\n",
    "all_nodes.extend(years)\n",
    "all_nodes.extend(songs)\n",
    "for decade in unique_words_no_stop:\n",
    "    for song in decade:\n",
    "        all_nodes.extend(song)\n",
    "        \n",
    "node_type = []\n",
    "node_type += [\"Decade\"] * len(decades)\n",
    "node_type += [\"Year\"] * len(years)\n",
    "node_type += [\"Song\"] * len(songs)\n",
    "node_type += [\"Words\"] * (len(all_nodes) - len(node_type))\n",
    "\n",
    "all_nodes = pd.DataFrame(data={\"Id\":all_nodes, \"Label\":all_nodes, \"Type\":node_type})\n",
    "print(all_nodes.shape)\n",
    "all_nodes.head()"
   ]
  },
  {
   "cell_type": "code",
   "execution_count": 153,
   "metadata": {},
   "outputs": [
    {
     "name": "stdout",
     "output_type": "stream",
     "text": [
      "(1869, 3)\n"
     ]
    },
    {
     "data": {
      "text/html": [
       "<div>\n",
       "<style scoped>\n",
       "    .dataframe tbody tr th:only-of-type {\n",
       "        vertical-align: middle;\n",
       "    }\n",
       "\n",
       "    .dataframe tbody tr th {\n",
       "        vertical-align: top;\n",
       "    }\n",
       "\n",
       "    .dataframe thead th {\n",
       "        text-align: right;\n",
       "    }\n",
       "</style>\n",
       "<table border=\"1\" class=\"dataframe\">\n",
       "  <thead>\n",
       "    <tr style=\"text-align: right;\">\n",
       "      <th></th>\n",
       "      <th>Id</th>\n",
       "      <th>Source</th>\n",
       "      <th>Target</th>\n",
       "    </tr>\n",
       "  </thead>\n",
       "  <tbody>\n",
       "    <tr>\n",
       "      <th>0</th>\n",
       "      <td>0</td>\n",
       "      <td>1950</td>\n",
       "      <td>1950s</td>\n",
       "    </tr>\n",
       "    <tr>\n",
       "      <th>1</th>\n",
       "      <td>1</td>\n",
       "      <td>1950</td>\n",
       "      <td>1950s</td>\n",
       "    </tr>\n",
       "    <tr>\n",
       "      <th>2</th>\n",
       "      <td>2</td>\n",
       "      <td>1955</td>\n",
       "      <td>1950s</td>\n",
       "    </tr>\n",
       "    <tr>\n",
       "      <th>3</th>\n",
       "      <td>3</td>\n",
       "      <td>1955</td>\n",
       "      <td>1950s</td>\n",
       "    </tr>\n",
       "    <tr>\n",
       "      <th>4</th>\n",
       "      <td>4</td>\n",
       "      <td>1960</td>\n",
       "      <td>1960s</td>\n",
       "    </tr>\n",
       "  </tbody>\n",
       "</table>\n",
       "</div>"
      ],
      "text/plain": [
       "   Id Source Target\n",
       "0   0   1950  1950s\n",
       "1   1   1950  1950s\n",
       "2   2   1955  1950s\n",
       "3   3   1955  1950s\n",
       "4   4   1960  1960s"
      ]
     },
     "execution_count": 153,
     "metadata": {},
     "output_type": "execute_result"
    }
   ],
   "source": [
    "#List of all edges\n",
    "src = []\n",
    "tgt = []\n",
    "\n",
    "#Edges from years to the decade\n",
    "points_in_decade = sum(data[\"Year\"].isin(np.arange(data[\"Year\"][0], data[\"Year\"][0] + 10)))\n",
    "start = 0\n",
    "for year in decades:\n",
    "    src += list(data[\"Year\"][start:start + points_in_decade])\n",
    "    tgt += [year] * points_in_decade\n",
    "    start += points_in_decade\n",
    "    \n",
    "#Edges from songs to years\n",
    "src += songs\n",
    "tgt += list(data[\"Year\"])\n",
    "\n",
    "#Edges from unique words to song\n",
    "song_ind = 0\n",
    "for i in np.arange(len(music)):\n",
    "    \n",
    "    decade_lyrics = unique_lyrics_no_stopwords[i]\n",
    "    \n",
    "    for j in np.arange(len(decade_lyrics)):\n",
    "        lyrics = decade_lyrics[j]\n",
    "        src += lyrics\n",
    "        tgt += [songs[song_ind]] * len(lyrics)\n",
    "        song_ind += 1\n",
    "\n",
    "all_edges = pd.DataFrame(data={\"Id\":np.arange(len(src)), \"Source\":src, \"Target\":tgt})\n",
    "print(all_edges.shape)\n",
    "all_edges.head()"
   ]
  },
  {
   "cell_type": "code",
   "execution_count": 150,
   "metadata": {},
   "outputs": [],
   "source": [
    "all_nodes.to_csv(\"lyric_nodes.csv\",index=False)\n",
    "all_edges.to_csv(\"lyric_edges.csv\",index=False)"
   ]
  },
  {
   "cell_type": "markdown",
   "metadata": {},
   "source": [
    "## Visualization\n",
    "### Gephi\n",
    "## Frequency Analysis\n",
    "## Visualization\n",
    "### Most Frequent Words\n",
    "#### Overall\n",
    "#### By Decade\n",
    "## Sentiment Analysis\n",
    "## Visualization\n",
    "## TF-IDF\n",
    "## Visualization\n",
    "Word cloud\n",
    "# Conclusion\n",
    "It appears over time, words become shorter, but there are more words. That means songs have become snappier. I hypothesize the tempo of songs present-day is faster and perhaps there is a genre shift, but as I only have the song lyrics to work with, I cannot confirm my hypothesis.\n",
    "\n",
    "There appears to be a shift from the songs focusing on \"you,\" to convey intimacy, to \"me,\" a more ego-centric point of view. Inclusive first person pronouns such as \"we\" and \"us\" are on the rise in the later years, implying a greater focus on the self and how the self relates to the outside world.\n",
    "# What Next?\n",
    "G)   5 points: What does it all mean? What did you find? What did you learn? What would you have done\n",
    "differently if you had unlimited time and money? Where should future research go? (take-home points)"
   ]
  },
  {
   "cell_type": "code",
   "execution_count": null,
   "metadata": {},
   "outputs": [],
   "source": [
    "songs_freq"
   ]
  },
  {
   "cell_type": "code",
   "execution_count": null,
   "metadata": {},
   "outputs": [],
   "source": [
    "full_lyrics = music[\"Lyrics\"]\n",
    "music[\"Lyrics\"] = full_lyrics\n",
    "music[\"Word Count\"] = [len(song.split()) for song in music[\"Lyrics\"]]\n",
    "music[\"Character Count\"] = [len(song) for song in music[\"Lyrics\"]]\n",
    "lyrics_by_sentence = [sent_tokenize(song) for song in music[\"Lyrics\"]] #save for later\n",
    "music[\"Lyrics\"] = [word_tokenize(song) for song in music[\"Lyrics\"]]\n",
    "#lyrics_by_sentence = each element's element is a sentence\n",
    "#lyrics = each element's element is a word\n",
    "music"
   ]
  },
  {
   "cell_type": "code",
   "execution_count": null,
   "metadata": {},
   "outputs": [],
   "source": [
    "songs_pos = []\n",
    "songs_freq = []\n",
    "spec_freq = []\n",
    "prp_freq = []\n",
    "prpp_freq = []\n",
    "personal_freq = []\n",
    "for i in np.arange(len(music)):\n",
    "    song = music[\"Lyrics\"][i]\n",
    "    songs_pos += [pos_tag(song)]\n",
    "    songs_freq += [nltk.FreqDist([tag for (word, tag) in songs_pos[i]])]\n",
    "    spec_freq += [songs_freq[i].freq(\"WDT\") + songs_freq[i].freq(\"WP\") + songs_freq[i].freq(\"WP$\") + songs_freq[i].freq(\"WRB\")]\n",
    "    prp_freq += [songs_freq[i].freq(\"PRP\")]\n",
    "    prpp_freq += [songs_freq[i].freq(\"PRP$\")]\n",
    "    personal_freq += [songs_freq[i].freq(\"PRP\") + songs_freq[i].freq(\"PRP$\")]\n",
    "music[\"Personal Frequency\"] = personal_freq #frequency of personal pronouns and possessive personal pronouns"
   ]
  },
  {
   "cell_type": "code",
   "execution_count": null,
   "metadata": {},
   "outputs": [],
   "source": [
    "stop_words = set(stopwords.words('english')) \n",
    "music[\"Lyrics\"] = [[w for w in song if not w in stop_words] for song in music[\"Lyrics\"]] "
   ]
  },
  {
   "cell_type": "code",
   "execution_count": null,
   "metadata": {},
   "outputs": [],
   "source": [
    "sid = SentimentIntensityAnalyzer()\n",
    "sentiments = [\"positive\", \"neutral\", \"negative\"]\n",
    "sentiment_summary = dict([(\"positive\", []), (\"neutral\", []), (\"negative\", [])])\n",
    "for i in np.arange(len(music)):\n",
    "    song = music[\"Lyrics\"][i]\n",
    "    for key in sentiments:\n",
    "        sentiment_summary[key] += [0]\n",
    "    for sentence in song:\n",
    "        sentiment_score = sid.polarity_scores(sentence)\n",
    "        if sentiment_score[\"compound\"] == 0.0:\n",
    "            sentiment_summary[\"neutral\"][i] += 1\n",
    "        elif sentiment_score[\"compound\"] > 0.0:\n",
    "            sentiment_summary[\"positive\"][i] += 1\n",
    "        else:\n",
    "            sentiment_summary[\"negative\"][i] += 1"
   ]
  },
  {
   "cell_type": "code",
   "execution_count": null,
   "metadata": {},
   "outputs": [],
   "source": [
    "def get_wordnet_pos(treebank_tag):\n",
    "\n",
    "    if treebank_tag.startswith(\"J\"):\n",
    "        return wordnet.ADJ\n",
    "    elif treebank_tag.startswith(\"V\"):\n",
    "        return wordnet.VERB\n",
    "    elif treebank_tag.startswith(\"N\"):\n",
    "        return wordnet.NOUN\n",
    "    elif treebank_tag.startswith(\"R\"):\n",
    "        return wordnet.ADV\n",
    "    else:\n",
    "        return None"
   ]
  },
  {
   "cell_type": "code",
   "execution_count": null,
   "metadata": {},
   "outputs": [],
   "source": [
    "def lemmatize(word, tag):\n",
    "    tag = get_wordnet_pos(tag)\n",
    "    if tag:\n",
    "        return lemmatizer.lemmatize(word, tag)\n",
    "    else:\n",
    "        return lemmatizer.lemmatize(word)"
   ]
  },
  {
   "cell_type": "code",
   "execution_count": null,
   "metadata": {},
   "outputs": [],
   "source": [
    "lemmatizer = WordNetLemmatizer()\n",
    "lyrics = []\n",
    "for i in np.arange(len(music)):\n",
    "    song = music[\"Lyrics\"][i]\n",
    "    lyrics += [[lemmatize(word, tag) for (word, tag) in songs_pos[i]]]\n",
    "music[\"Lyrics\"] = lyrics"
   ]
  },
  {
   "cell_type": "code",
   "execution_count": null,
   "metadata": {},
   "outputs": [],
   "source": [
    "vectorizer = TfidfVectorizer()\n",
    "lyrics_by_song = []\n",
    "for i in np.arange(len(music)):\n",
    "    lyrics_by_song += [\" \".join(lyrics[i])]\n",
    "tfidf = vectorizer.fit_transform(lyrics_by_song)\n",
    "tfidf = pd.DataFrame(tfidf.toarray(), columns=vectorizer.get_feature_names())\n",
    "common = []\n",
    "for i in np.arange(len(music)):\n",
    "    print(\"Most common words of\", music[\"Song\"][i], \"are:\")\n",
    "    common += [tfidf.iloc[i].sort_values(ascending=False)]\n",
    "    print(tfidf.iloc[i].sort_values(ascending=False).head(), \"\\n\")\n",
    "music[\"Common Words\"] = common"
   ]
  },
  {
   "cell_type": "code",
   "execution_count": null,
   "metadata": {},
   "outputs": [],
   "source": [
    "for i in np.arange(len(music)):\n",
    "    common[i][:5].plot(label=music[\"Song\"][i], legend=True, yticks=np.arange(8)/10)\n",
    "    plt.show()\n",
    "#Greater word variety in modern age. Less repetitive."
   ]
  },
  {
   "cell_type": "markdown",
   "metadata": {},
   "source": [
    "# Sentiment Analysis\n",
    "Overwhelmingly neutral sentences with the neutral sentences taking up a greater portion of the text in recent years.\n",
    "Amount of positive sentiments is stable over the years except for 2000. Negative sentiments seem to swing wildly between more and less but in general has an upward trend."
   ]
  },
  {
   "cell_type": "code",
   "execution_count": null,
   "metadata": {},
   "outputs": [],
   "source": [
    "for sentiment in sentiments:\n",
    "    plt.plot(music[\"Year\"], sentiment_summary[sentiment], label=sentiment)\n",
    "plt.ylabel(\"Count\")\n",
    "plt.xlabel(\"Year\")\n",
    "plt.title(\"Sentiment of Sentences vs Year\");\n",
    "plt.legend();\n",
    "#plt.savefig(\"sentvsyear.tiff\")"
   ]
  },
  {
   "cell_type": "code",
   "execution_count": null,
   "metadata": {},
   "outputs": [],
   "source": [
    "plt.plot(music[\"Year\"], sentiment_summary[sentiments[0]], label=sentiments[0])\n",
    "plt.plot(music[\"Year\"], sentiment_summary[sentiments[2]], label=sentiments[2])\n",
    "plt.ylabel(\"Count\")\n",
    "plt.xlabel(\"Year\")\n",
    "plt.title(\"Number of Positive and Negative Sentences vs Year\");\n",
    "plt.legend();\n",
    "#plt.savefig(\"posnegvsyear.tiff\")"
   ]
  },
  {
   "cell_type": "code",
   "execution_count": null,
   "metadata": {},
   "outputs": [],
   "source": [
    "for i in np.arange(len(music)):\n",
    "    songs_freq[i].plot(cumulative=False, title=music[\"Song\"][i])"
   ]
  },
  {
   "cell_type": "code",
   "execution_count": null,
   "metadata": {},
   "outputs": [],
   "source": [
    "plt.plot(music[\"Year\"], music[\"Personal Frequency\"], label=\"Combined Frequency\")\n",
    "plt.plot(music[\"Year\"], prp_freq, label=\"Personal Frequency\")\n",
    "plt.plot(music[\"Year\"], prpp_freq, label=\"Posessive Personal Frequency\")\n",
    "plt.ylabel(\"Percentage\")\n",
    "plt.xlabel(\"Year\")\n",
    "plt.title(\"Frequency of Personal Pronouns vs Year\")\n",
    "plt.legend(loc=\"upper left\");\n",
    "#plt.savefig(\"ppvsyear.tiff\")"
   ]
  },
  {
   "cell_type": "code",
   "execution_count": null,
   "metadata": {},
   "outputs": [],
   "source": [
    "plt.plot(music[\"Year\"], spec_freq)\n",
    "plt.ylabel(\"Percentage\")\n",
    "plt.xlabel(\"Year\")\n",
    "plt.title(\"Frequency of Speculative Words vs Year\");\n",
    "#plt.savefig(\"specvsyear.tiff\")"
   ]
  },
  {
   "cell_type": "code",
   "execution_count": null,
   "metadata": {},
   "outputs": [],
   "source": [
    "lemmatizer = WordNetLemmatizer()\n",
    "music[\"Unique Words (with stopwords)\"] = [[word_tokenize(song) for song in decade]\n",
    "                           for decade in music[\"Lyrics\"]]\n",
    "music[\"Unique Words (with stopwords)\"] = [[[lemmatizer.lemmatize(word) for word in song] for song in decade] for decade in music[\"Unique Words (with stopwords)\"]]\n",
    "for x in music[\"Unique Words (with stopwords)\"]:\n",
    "    print(x, \"!\")"
   ]
  },
  {
   "cell_type": "code",
   "execution_count": null,
   "metadata": {},
   "outputs": [],
   "source": []
  },
  {
   "cell_type": "code",
   "execution_count": null,
   "metadata": {},
   "outputs": [],
   "source": [
    "All the words in each song are directed towards the song & direct songs to year to decade. Merge the words. See what words are in common.\n",
    "Edge list: (ID, SRC(byID), TARGET(byID), TYPE (directed))\n",
    "Node list: (ID, LBL)\n"
   ]
  },
  {
   "cell_type": "raw",
   "metadata": {},
   "source": [
    "6.   Individual presentation:\n",
    "All students will be required to present a functioning Jupyter Notebook in a 5 minute individual\n",
    "presentation about their final project with a few minutes of Q & A. You will be graded as\n",
    "follows:\n",
    "A)   5 points: Does you Jupyter Notebook work?\n",
    "B)   5 points: Did you clearly articulate your research question?\n",
    "C)   5 points: Did you give us background on your data source and why you chose to use it?\n",
    "Where we got it from? How trustworthy is it?\n",
    "Interested in the data generation process. Where did it come from? Who collected them? Is it a subset?\n",
    "Are there imbalances/biases? Are they weighted? Are there latent variables (created from the construction of other variables)?\n",
    "Are there assumptions, is there missing data?\n",
    "D)   5 points: Did you clean or subset your data somehow? What was the process like? Tell us.\n",
    "E)   5 points: Must include at least one visualization\n",
    "F)   5 points: Must include at least summary statistics for your data (describe)\n",
    "G)   5 points: What does it all mean? What did you find? What did you learn? What would you have done\n",
    "differently if you had unlimited time and money? Where should future research go? (take-home points)\n",
    "7.   Individual project:\n",
    "All students must submit this same Jupyter Notebook by the end of the semester July 5 at\n",
    "midnight. It is okay if this notebook is an improved version of what you presented a few days\n",
    "prior. You will be graded as follows:\n",
    "A)   Simply turn in what you presented for your individual presentation. You will be graded on logical\n",
    "structure and clarity. Please include any corrections you wish to change before the due date.\n"
   ]
  }
 ],
 "metadata": {
  "kernelspec": {
   "display_name": "Python 3",
   "language": "python",
   "name": "python3"
  },
  "language_info": {
   "codemirror_mode": {
    "name": "ipython",
    "version": 3
   },
   "file_extension": ".py",
   "mimetype": "text/x-python",
   "name": "python",
   "nbconvert_exporter": "python",
   "pygments_lexer": "ipython3",
   "version": "3.7.3"
  }
 },
 "nbformat": 4,
 "nbformat_minor": 2
}
